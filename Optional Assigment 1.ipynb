{
 "cells": [
  {
   "cell_type": "markdown",
   "metadata": {},
   "source": [
    "**Write a function that inputs a number and prints the multiplication table of that number**"
   ]
  },
  {
   "cell_type": "code",
   "execution_count": 1,
   "metadata": {},
   "outputs": [
    {
     "name": "stdout",
     "output_type": "stream",
     "text": [
      "-3 X 1 = -3\n",
      "-3 X 2 = -6\n",
      "-3 X 3 = -9\n",
      "-3 X 4 = -12\n",
      "-3 X 5 = -15\n",
      "-3 X 6 = -18\n",
      "-3 X 7 = -21\n",
      "-3 X 8 = -24\n",
      "-3 X 9 = -27\n",
      "-3 X 10 = -30\n"
     ]
    }
   ],
   "source": [
    "def MultTable(a):\n",
    "    \"\"\"The function will return the multiplication table of a positive integer number\"\"\"\n",
    "\n",
    "    for i in range(1,11):\n",
    "        print(a,'X',i,'=',a*i)\n",
    "\n",
    "MultTable(-3)"
   ]
  },
  {
   "cell_type": "markdown",
   "metadata": {},
   "source": [
    "**Write a program to print primes less than 1000**"
   ]
  },
  {
   "cell_type": "code",
   "execution_count": 2,
   "metadata": {},
   "outputs": [
    {
     "name": "stdout",
     "output_type": "stream",
     "text": [
      "The number 11 is a prime number\n"
     ]
    }
   ],
   "source": [
    "#Check whether a nuber is prime number of not\n",
    "\n",
    "a1=11\n",
    "temp = 0\n",
    "    \n",
    "for i in range(1,a1):\n",
    "    \n",
    "    if (a1 % i == 0):\n",
    "        temp = temp+1\n",
    "\n",
    "if (temp == 1):\n",
    "    print('The number',a1,'is a prime number')\n",
    "else:\n",
    "    print('The number',a1,'is not a prime number')"
   ]
  },
  {
   "cell_type": "code",
   "execution_count": 3,
   "metadata": {},
   "outputs": [
    {
     "name": "stdout",
     "output_type": "stream",
     "text": [
      "2 is a prime number\n"
     ]
    }
   ],
   "source": [
    "# Program to check if a number is prime or not\n",
    "# THis program is a copy pasted from the internet\n",
    "\n",
    "num = 2\n",
    "\n",
    "# define a flag variable\n",
    "flag = False\n",
    "\n",
    "if num == 1:\n",
    "    print(num, \"is not a prime number\")\n",
    "elif num > 1:\n",
    "    # check for factors\n",
    "    for i in range(2, num):\n",
    "        if (num % i) == 0:\n",
    "            # if factor is found, set flag to True\n",
    "            flag = True\n",
    "            # break out of loop\n",
    "            break\n",
    "\n",
    "    # check if flag is True\n",
    "    if flag:\n",
    "        print(num, \"is not a prime number\")\n",
    "    else:\n",
    "        print(num, \"is a prime number\")"
   ]
  },
  {
   "cell_type": "code",
   "execution_count": 6,
   "metadata": {},
   "outputs": [
    {
     "name": "stdout",
     "output_type": "stream",
     "text": [
      "2 is a prime number\n",
      "3 is a prime number\n",
      "5 is a prime number\n",
      "7 is a prime number\n",
      "11 is a prime number\n",
      "13 is a prime number\n",
      "17 is a prime number\n",
      "19 is a prime number\n",
      "23 is a prime number\n",
      "29 is a prime number\n",
      "31 is a prime number\n",
      "37 is a prime number\n",
      "41 is a prime number\n",
      "43 is a prime number\n",
      "47 is a prime number\n",
      "53 is a prime number\n",
      "59 is a prime number\n",
      "61 is a prime number\n",
      "67 is a prime number\n",
      "71 is a prime number\n",
      "73 is a prime number\n",
      "79 is a prime number\n",
      "83 is a prime number\n",
      "89 is a prime number\n",
      "97 is a prime number\n"
     ]
    }
   ],
   "source": [
    "#Find the prime number between the interval\n",
    "\n",
    "a2=1\n",
    "a3=100\n",
    "\n",
    "for k in range(a2,a3+1):\n",
    "\n",
    "    temp = 0\n",
    "    for i in range(1,k):\n",
    "        if (k % i == 0):\n",
    "            temp = temp+1\n",
    "\n",
    "    if (temp==1):\n",
    "        print(k,'is a prime number')"
   ]
  },
  {
   "cell_type": "markdown",
   "metadata": {},
   "source": [
    "**Write a program to print twin primes less than 1000. If two consecutive odd numbers are both prime then they are known as twin primes**"
   ]
  },
  {
   "cell_type": "code",
   "execution_count": 7,
   "metadata": {},
   "outputs": [
    {
     "name": "stdout",
     "output_type": "stream",
     "text": [
      "[[3, 5], [5, 7], [11, 13], [17, 19], [29, 31], [41, 43], [59, 61], [71, 73], [101, 103], [107, 109], [137, 139], [149, 151], [179, 181], [191, 193], [197, 199], [227, 229], [239, 241], [269, 271], [281, 283], [311, 313], [347, 349], [419, 421], [431, 433], [461, 463], [521, 523], [569, 571], [599, 601], [617, 619], [641, 643], [659, 661], [809, 811], [821, 823], [827, 829], [857, 859], [881, 883], [1019, 1021], [1031, 1033], [1049, 1051], [1061, 1063], [1091, 1093], [1151, 1153], [1229, 1231], [1277, 1279], [1289, 1291], [1301, 1303], [1319, 1321], [1427, 1429], [1451, 1453], [1481, 1483], [1487, 1489], [1607, 1609], [1619, 1621], [1667, 1669], [1697, 1699], [1721, 1723], [1787, 1789], [1871, 1873], [1877, 1879], [1931, 1933], [1949, 1951], [1997, 1999], [2027, 2029], [2081, 2083], [2087, 2089], [2111, 2113], [2129, 2131], [2141, 2143], [2237, 2239], [2267, 2269], [2309, 2311], [2339, 2341], [2381, 2383], [2549, 2551], [2591, 2593], [2657, 2659], [2687, 2689], [2711, 2713], [2729, 2731], [2789, 2791], [2801, 2803], [2969, 2971], [2999, 3001], [3119, 3121], [3167, 3169], [3251, 3253], [3257, 3259], [3299, 3301], [3329, 3331], [3359, 3361], [3371, 3373], [3389, 3391], [3461, 3463], [3467, 3469], [3527, 3529], [3539, 3541], [3557, 3559], [3581, 3583], [3671, 3673], [3767, 3769], [3821, 3823], [3851, 3853], [3917, 3919], [3929, 3931], [4001, 4003], [4019, 4021], [4049, 4051], [4091, 4093], [4127, 4129], [4157, 4159], [4217, 4219], [4229, 4231], [4241, 4243], [4259, 4261], [4271, 4273], [4337, 4339], [4421, 4423], [4481, 4483], [4517, 4519], [4547, 4549], [4637, 4639], [4649, 4651], [4721, 4723], [4787, 4789], [4799, 4801], [4931, 4933], [4967, 4969], [5009, 5011], [5021, 5023], [5099, 5101], [5231, 5233], [5279, 5281], [5417, 5419], [5441, 5443], [5477, 5479], [5501, 5503], [5519, 5521], [5639, 5641], [5651, 5653], [5657, 5659], [5741, 5743], [5849, 5851], [5867, 5869], [5879, 5881], [6089, 6091], [6131, 6133], [6197, 6199], [6269, 6271], [6299, 6301], [6359, 6361], [6449, 6451], [6551, 6553], [6569, 6571], [6659, 6661], [6689, 6691], [6701, 6703], [6761, 6763], [6779, 6781], [6791, 6793], [6827, 6829], [6869, 6871], [6947, 6949], [6959, 6961], [7127, 7129], [7211, 7213], [7307, 7309], [7331, 7333], [7349, 7351], [7457, 7459], [7487, 7489], [7547, 7549], [7559, 7561], [7589, 7591], [7757, 7759], [7877, 7879], [7949, 7951], [8009, 8011], [8087, 8089], [8219, 8221], [8231, 8233], [8291, 8293], [8387, 8389], [8429, 8431], [8537, 8539], [8597, 8599], [8627, 8629], [8819, 8821], [8837, 8839], [8861, 8863], [8969, 8971], [8999, 9001], [9011, 9013], [9041, 9043], [9239, 9241], [9281, 9283], [9341, 9343], [9419, 9421], [9431, 9433], [9437, 9439], [9461, 9463], [9629, 9631], [9677, 9679], [9719, 9721], [9767, 9769], [9857, 9859], [9929, 9931]]\n",
      "205\n"
     ]
    }
   ],
   "source": [
    "a4 =10000\n",
    "prime_list = []\n",
    "\n",
    "for k in range(1,a4+1):\n",
    "\n",
    "    temp = 0\n",
    "    for i in range(1,k):\n",
    "        if (k % i == 0):\n",
    "            temp = temp+1\n",
    "\n",
    "    if (temp==1):\n",
    "        prime_list.append(k)\n",
    "\n",
    "#print(prime_list)\n",
    "#print(len(prime_list))\n",
    "\n",
    "b1 = len(prime_list)\n",
    "#print(b1)\n",
    "\n",
    "prime_odd_list = []\n",
    "\n",
    "for i in range(b1-2):\n",
    "    if(prime_list[i+1]-prime_list[i] == 2):\n",
    "        prime_odd_list.append([prime_list[i],prime_list[i+1]])\n",
    "\n",
    "print(prime_odd_list)\n",
    "print(len(prime_odd_list))"
   ]
  },
  {
   "cell_type": "markdown",
   "metadata": {},
   "source": [
    "**Write a program to find out the prime factors of a number. Example: prime factors of 56 - 2, 2, 2, 7**"
   ]
  },
  {
   "cell_type": "code",
   "execution_count": 8,
   "metadata": {},
   "outputs": [
    {
     "name": "stdout",
     "output_type": "stream",
     "text": [
      "[2, 2, 2, 7]\n"
     ]
    }
   ],
   "source": [
    "#Find the prime number between the interval 1, 100\n",
    "\n",
    "a5=56\n",
    "\n",
    "def prime_factor(a5):\n",
    "\n",
    "    if (a5>0):\n",
    "        primez = []\n",
    "        if (a5 == 1):\n",
    "            return[1]\n",
    "\n",
    "        for i in range(2,a5+1): #if the range(1,a5+1) then the while loop will run for infinte time as while loop condition will be always true for i=1\n",
    "            while(a5 % i == 0):\n",
    "                primez.append(i)\n",
    "                a5 = a5/i\n",
    "        print(primez)\n",
    "    else:\n",
    "        print('Enter a positive number to get the prime factor')\n",
    "\n",
    "prime_factor(a5)"
   ]
  },
  {
   "cell_type": "markdown",
   "metadata": {},
   "source": [
    "**Write a program to implement these formulae of permutations and combinations.\n",
    "Number of permutations of n objects taken r at a time: p(n, r) = n! / (n-r)!. Number of combinations of n objects taken r at a time is: c(n, r) = n! / (r!*(n-r)!) = p(n,r) / r!**"
   ]
  },
  {
   "cell_type": "code",
   "execution_count": 9,
   "metadata": {},
   "outputs": [
    {
     "data": {
      "text/plain": [
       "3628800"
      ]
     },
     "execution_count": 9,
     "metadata": {},
     "output_type": "execute_result"
    }
   ],
   "source": [
    "def factorial(num):\n",
    "    fact = 1\n",
    "    if num == 0:\n",
    "        fact = 1\n",
    "    elif num == 1:\n",
    "        fact = 1\n",
    "\n",
    "    for i in range(1,num+1):\n",
    "        fact = fact*i\n",
    "    return(fact)\n",
    "\n",
    "factorial(10)"
   ]
  },
  {
   "cell_type": "code",
   "execution_count": 10,
   "metadata": {},
   "outputs": [
    {
     "data": {
      "text/plain": [
       "120.0"
      ]
     },
     "execution_count": 10,
     "metadata": {},
     "output_type": "execute_result"
    }
   ],
   "source": [
    "def permutation(n,r):\n",
    "    if r <= n:\n",
    "        p = factorial(n) / factorial(n-r)\n",
    "        return p\n",
    "    else:\n",
    "        print(\"Enter correct number\")\n",
    "\n",
    "permutation(5,5)"
   ]
  },
  {
   "cell_type": "code",
   "execution_count": 11,
   "metadata": {},
   "outputs": [
    {
     "data": {
      "text/plain": [
       "1.0"
      ]
     },
     "execution_count": 11,
     "metadata": {},
     "output_type": "execute_result"
    }
   ],
   "source": [
    "def combination(n,r):\n",
    "    if r <= n:\n",
    "        p = factorial(n) / (factorial(n-r) * factorial(r))\n",
    "        return p\n",
    "    else:\n",
    "        print(\"Enter correct number\")\n",
    "\n",
    "combination(5,5)"
   ]
  },
  {
   "cell_type": "markdown",
   "metadata": {},
   "source": [
    "**Write a function that converts a decimal number to binary number**"
   ]
  },
  {
   "cell_type": "code",
   "execution_count": 12,
   "metadata": {},
   "outputs": [
    {
     "name": "stdout",
     "output_type": "stream",
     "text": [
      "10"
     ]
    }
   ],
   "source": [
    "#Recursive Function to convert Decimal to Binary\n",
    "\n",
    "def decimalToBinary1(a61):\n",
    "\n",
    "    if a61 > 1:\n",
    "    # recursive function call\n",
    "        #print(\"a61 value before the function call is\",a61)\n",
    "        decimalToBinary1(a61 // 2)\n",
    "        #print(\"a61 value after the function call is\",a61)\n",
    "    \n",
    "    # printing remainder from each function call\n",
    "    print(a61 % 2, end = '')\n",
    "\n",
    "# Driver Code\n",
    "if __name__ == '__main__':\n",
    "    # decimal value\n",
    "    a61 = 2\n",
    "    \n",
    "    # Calling special function\n",
    "    decimalToBinary1(a61)"
   ]
  },
  {
   "cell_type": "code",
   "execution_count": 14,
   "metadata": {},
   "outputs": [
    {
     "name": "stdout",
     "output_type": "stream",
     "text": [
      "1000\n",
      "10010\n",
      "111\n"
     ]
    }
   ],
   "source": [
    "# Python program to convert decimal to binary\n",
    "\n",
    "# Function to convert Decimal number \n",
    "# to Binary number \n",
    "def decimalToBinary(a7): \n",
    "\treturn \"{0:b}\".format(int(a7))\n",
    "\n",
    "# Driver code \n",
    "if __name__ == '__main__': \n",
    "\tprint(decimalToBinary(8)) \n",
    "\tprint(decimalToBinary(18)) \n",
    "\tprint(decimalToBinary(7)) "
   ]
  },
  {
   "cell_type": "markdown",
   "metadata": {},
   "source": [
    "**Write a function cubesum() that accepts an integer and returns the sum of the cubes of individual digits of that number. Use this function to make functions PrintArmstrong() and isArmstrong() to print Armstrong numbers and to find whether is an Armstrong number.**"
   ]
  },
  {
   "cell_type": "code",
   "execution_count": 19,
   "metadata": {},
   "outputs": [
    {
     "name": "stdout",
     "output_type": "stream",
     "text": [
      "134\n",
      "153\n"
     ]
    }
   ],
   "source": [
    "#for 3 digit number\n",
    "\n",
    "def cubesum(a7):\n",
    "\n",
    "    b1 = a7 // 100\n",
    "    b2 = a7 % 100 \n",
    "    b3 = b2 // 10\n",
    "    b4 = b2 % 10\n",
    "    b5 = b1**3+ b3**3+ b4**3\n",
    "    return (b5)\n",
    "\n",
    "print(cubesum(125))\n",
    "print(cubesum(153))"
   ]
  },
  {
   "cell_type": "code",
   "execution_count": 20,
   "metadata": {},
   "outputs": [
    {
     "name": "stdout",
     "output_type": "stream",
     "text": [
      "The number 125 is not an amstrong number\n",
      "The number 153 is an amstrong number\n"
     ]
    }
   ],
   "source": [
    "#for 3 digit number\n",
    "\n",
    "def amstrongNum(a8):\n",
    "    b1 = cubesum(a8)\n",
    "\n",
    "    if b1 == a8:\n",
    "        print('The number {} is an amstrong number'.format(a8))\n",
    "    else:\n",
    "        print('The number {} is not an amstrong number'.format(a8))\n",
    "\n",
    "amstrongNum(125)\n",
    "amstrongNum(153)"
   ]
  },
  {
   "cell_type": "code",
   "execution_count": 18,
   "metadata": {},
   "outputs": [
    {
     "name": "stdout",
     "output_type": "stream",
     "text": [
      "True\n"
     ]
    }
   ],
   "source": [
    "#Here the number is converted to string\n",
    "\n",
    "def is_armstrong(a9):\n",
    "\tnum_str = str(a9)\n",
    "\tn = len(num_str)\n",
    "\tsum = 0\n",
    "\tfor digit in num_str:\n",
    "\t\tsum += int(digit)**n\n",
    "\tif sum == a9:\n",
    "\t\treturn True\n",
    "\telse:\n",
    "\t\treturn False\n",
    "a9=153\n",
    "print(is_armstrong(a9))\n"
   ]
  },
  {
   "cell_type": "code",
   "execution_count": 21,
   "metadata": {},
   "outputs": [
    {
     "name": "stdout",
     "output_type": "stream",
     "text": [
      "1634 is an Armstrong number\n"
     ]
    }
   ],
   "source": [
    "#for n digit number\n",
    "\n",
    "a10 = 1634\n",
    "\n",
    "# Changed num variable to string, \n",
    "# and calculated the length (number of digits)\n",
    "order = len(str(a10))\n",
    "\n",
    "# initialize sum\n",
    "sum = 0\n",
    "\n",
    "# find the sum of the cube of each digit\n",
    "temp = a10\n",
    "while temp > 0:\n",
    "    digit = temp % 10\n",
    "    sum += digit ** order\n",
    "    temp //= 10\n",
    "\n",
    "# display the result\n",
    "if a10 == sum:\n",
    "    print(a10,\"is an Armstrong number\")\n",
    "else:\n",
    "    print(a10,\"is not an Armstrong number\")\n"
   ]
  },
  {
   "cell_type": "markdown",
   "metadata": {},
   "source": [
    "**Write a function prodDigits() that inputs a number and returns the product of digits of that number**"
   ]
  },
  {
   "cell_type": "code",
   "execution_count": 22,
   "metadata": {},
   "outputs": [
    {
     "data": {
      "text/plain": [
       "6"
      ]
     },
     "execution_count": 22,
     "metadata": {},
     "output_type": "execute_result"
    }
   ],
   "source": [
    "def prodDigit(a11):\n",
    "\n",
    "    prod = 1\n",
    "    temp = a11\n",
    "\n",
    "    while (temp > 0):\n",
    "        x1 = temp % 10\n",
    "        prod = prod * x1\n",
    "        temp = temp // 10\n",
    "    \n",
    "    #print('The product of digits of the number {} is {}'.format(a11, prod))\n",
    "    return prod\n",
    "\n",
    "prodDigit(1231)"
   ]
  },
  {
   "cell_type": "markdown",
   "metadata": {},
   "source": [
    "**If all digits of a number n are multiplied by each other repeating with the product, the one digit number obtained at last is called the multiplicative digital root of n. The number of times digits need to be multiplied to reach one digit is called the multiplicative persistance of n.**\n",
    "\n",
    "**Example: 86 -> 48 -> 32 -> 6 (MDR 6, MPersistence 3)\n",
    "341 -> 12->2 (MDR 2, MPersistence 2)**\n",
    "\n",
    "**Using the function prodDigits() of previous exercise write functions MDR() and MPersistence() that input a number and return its multiplicative digital root and multiplicative persistence respectively**"
   ]
  },
  {
   "cell_type": "code",
   "execution_count": 23,
   "metadata": {},
   "outputs": [
    {
     "name": "stdout",
     "output_type": "stream",
     "text": [
      "The multiplicate digit root is 9\n"
     ]
    }
   ],
   "source": [
    "def MDR(a12):\n",
    "\n",
    "    while a12 > 10:\n",
    "        a12 = prodDigit(a12)\n",
    "\n",
    "    print(\"The multiplicate digit root is {}\".format(a12))\n",
    "\n",
    "MDR(33)"
   ]
  },
  {
   "cell_type": "markdown",
   "metadata": {},
   "source": [
    "**Write a function sumPdivisors() that finds the sum of proper divisors of a number. Proper divisors of a number are those numbers by which the number is divisible, except the number itself. For example proper divisors of 36 are 1, 2, 3, 4, 6, 9, 12, 18**"
   ]
  },
  {
   "cell_type": "code",
   "execution_count": 24,
   "metadata": {},
   "outputs": [
    {
     "data": {
      "text/plain": [
       "55"
      ]
     },
     "execution_count": 24,
     "metadata": {},
     "output_type": "execute_result"
    }
   ],
   "source": [
    "def sumPdivisors(a13):\n",
    "\n",
    "    sum = 0\n",
    "    for i in range(1,a13):\n",
    "        if a13%i == 0:\n",
    "            sum += i\n",
    "    return sum\n",
    "\n",
    "sumPdivisors(36)"
   ]
  },
  {
   "cell_type": "markdown",
   "metadata": {},
   "source": [
    "**A number is called perfect if the sum of proper divisors of that number is equal to the number. For example 28 is perfect number, since 1+2+4+7+14=28. Write a program to print all the perfect numbers in a given range**"
   ]
  },
  {
   "cell_type": "code",
   "execution_count": 25,
   "metadata": {},
   "outputs": [
    {
     "name": "stdout",
     "output_type": "stream",
     "text": [
      "The sum of proper divisior of the number 28 is 28.\n",
      "So,the number 28 is a perfect number\n"
     ]
    }
   ],
   "source": [
    "a14 = 28\n",
    "\n",
    "a15 = sumPdivisors(a14)\n",
    "print(\"The sum of proper divisior of the number {} is {}.\".format(a14,a15))\n",
    "\n",
    "if a15 == a14:\n",
    "    print(\"So,the number {} is a perfect number\".format(a14))\n",
    "else:\n",
    "    print(\"So,the number {} is not a perfect number\".format(a14))"
   ]
  },
  {
   "cell_type": "markdown",
   "metadata": {},
   "source": [
    "**Two different numbers are called amicable numbers if the sum of the proper divisors of each is equal to the other number. For example 220 and 284 are amicable numbers.Sum of proper divisors of 220 = 1+2+4+5+10+11+20+22+44+55+110 = 284**\n",
    "\n",
    "**Sum of proper divisors of 284 = 1+2+4+71+142 = 220.\n",
    "Write a function to print pairs of amicable numbers in a range**"
   ]
  },
  {
   "cell_type": "code",
   "execution_count": 27,
   "metadata": {},
   "outputs": [
    {
     "name": "stdout",
     "output_type": "stream",
     "text": [
      "Not Amicable number\n"
     ]
    }
   ],
   "source": [
    "#The numberpair  is amicable or not\n",
    "\n",
    "a16 = 222\n",
    "a17 = sumPdivisors(a16)\n",
    "a18 = sumPdivisors(a17)\n",
    "\n",
    "if a16 == a18:\n",
    "    print(\"Amicable number\")\n",
    "else:\n",
    "    print(\"Not Amicable number\")"
   ]
  },
  {
   "cell_type": "code",
   "execution_count": 28,
   "metadata": {},
   "outputs": [
    {
     "name": "stdout",
     "output_type": "stream",
     "text": [
      "The pair of amicable number is 220,284\n",
      "The pair of amicable number is 284,220\n",
      "The pair of amicable number is 1184,1210\n",
      "The pair of amicable number is 1210,1184\n",
      "The pair of amicable number is 2620,2924\n",
      "The pair of amicable number is 2924,2620\n",
      "The pair of amicable number is 5020,5564\n",
      "The pair of amicable number is 5564,5020\n",
      "The pair of amicable number is 6232,6368\n",
      "The pair of amicable number is 6368,6232\n"
     ]
    }
   ],
   "source": [
    "#pair of amicable number\n",
    "\n",
    "pair_amicable = []\n",
    "amicable = []\n",
    "\n",
    "for i in range(1,10001):\n",
    "    a = sumPdivisors(i)\n",
    "    if a != i: \n",
    "        b = sumPdivisors(a) #to remover number like 6, 28 \n",
    "\n",
    "    if i == b:\n",
    "        #amicable.append(i)\n",
    "        #amicable.append(a)\n",
    "        print(\"The pair of amicable number is {},{}\".format(i,a))"
   ]
  },
  {
   "cell_type": "markdown",
   "metadata": {},
   "source": [
    "**Write a program which can filter odd numbers in a list by using filter function**"
   ]
  },
  {
   "cell_type": "code",
   "execution_count": 29,
   "metadata": {},
   "outputs": [
    {
     "name": "stdout",
     "output_type": "stream",
     "text": [
      "[1, 2, 3, 4, 5, 6, 7, 8, 9, 10, 11, 12, 13, 14, 15, 16, 17, 18, 19, 20]\n"
     ]
    }
   ],
   "source": [
    "number_list = []\n",
    "for i in range(1,21):\n",
    "    number_list.append(i)\n",
    "\n",
    "print(number_list)"
   ]
  },
  {
   "cell_type": "code",
   "execution_count": 30,
   "metadata": {},
   "outputs": [
    {
     "name": "stdout",
     "output_type": "stream",
     "text": [
      "[2, 4, 6, 8, 10, 12, 14, 16, 18, 20]\n"
     ]
    }
   ],
   "source": [
    "def evenNumber(num):\n",
    "    if num % 2 == 0:\n",
    "        return num\n",
    "    \n",
    "even_list = filter(evenNumber, number_list)\n",
    "even_list = list(even_list)\n",
    "print(even_list)"
   ]
  },
  {
   "cell_type": "code",
   "execution_count": 31,
   "metadata": {},
   "outputs": [
    {
     "name": "stdout",
     "output_type": "stream",
     "text": [
      "[2, 4, 6]\n"
     ]
    }
   ],
   "source": [
    "#Beautiful example of filter function and lambda function\n",
    "\n",
    "numbers = [1, 2, 3, 4, 5, 6, 7]\n",
    "\n",
    "# the lambda function returns True for even numbers \n",
    "even_numbers_iterator = filter(lambda x: (x%2 == 0), numbers)\n",
    "\n",
    "# converting to list\n",
    "even_numbers = list(even_numbers_iterator)\n",
    "\n",
    "print(even_numbers)\n"
   ]
  },
  {
   "cell_type": "markdown",
   "metadata": {},
   "source": [
    "**Write a program which can map() to make a list whose elements are cube of elements in\n",
    "a given list**"
   ]
  },
  {
   "cell_type": "code",
   "execution_count": 32,
   "metadata": {},
   "outputs": [
    {
     "name": "stdout",
     "output_type": "stream",
     "text": [
      "[1, 8, 27, 64, 125, 216, 343, 512, 729, 1000, 1331, 1728, 2197, 2744, 3375, 4096, 4913, 5832, 6859, 8000]\n"
     ]
    }
   ],
   "source": [
    "def cubeNumber(num):\n",
    "    return num**3\n",
    "\n",
    "cube_list = map(cubeNumber, number_list)\n",
    "cube_list = list(cube_list)\n",
    "print(cube_list)"
   ]
  },
  {
   "cell_type": "code",
   "execution_count": 33,
   "metadata": {},
   "outputs": [
    {
     "name": "stdout",
     "output_type": "stream",
     "text": [
      "[1, 8, 27, 64, 125, 216, 343]\n"
     ]
    }
   ],
   "source": [
    "# the lambda function returns True for even numbers \n",
    "cube_numbers_iterator = map(lambda x: x**3, numbers)\n",
    "\n",
    "# converting to list\n",
    "even_numbers = list(cube_numbers_iterator)\n",
    "\n",
    "print(even_numbers)"
   ]
  },
  {
   "cell_type": "markdown",
   "metadata": {},
   "source": [
    "**Write a program which can map() and filter() to make a list whose elements are cube of\n",
    "even number in a given list**"
   ]
  },
  {
   "cell_type": "code",
   "execution_count": 34,
   "metadata": {},
   "outputs": [
    {
     "name": "stdout",
     "output_type": "stream",
     "text": [
      "[8, 64, 216, 512, 1000, 1728, 2744, 4096, 5832, 8000]\n"
     ]
    }
   ],
   "source": [
    "custome_list1 = list(filter(evenNumber, number_list))\n",
    "custome_list2 = list(map(cubeNumber, custome_list1))\n",
    "\n",
    "print(custome_list2)"
   ]
  },
  {
   "cell_type": "code",
   "execution_count": 35,
   "metadata": {},
   "outputs": [
    {
     "name": "stdout",
     "output_type": "stream",
     "text": [
      "[8, 64, 216, 512, 1000, 1728, 2744, 4096, 5832, 8000]\n",
      "[8, 64, 216, 512, 1000, 1728, 2744, 4096, 5832, 8000]\n"
     ]
    }
   ],
   "source": [
    "custome_list3 = list(map(cubeNumber, list(filter(evenNumber, number_list))))\n",
    "custome_list4 = list(map(lambda x: x**3, list(filter(lambda x: (x%2 == 0), number_list))))\n",
    "\n",
    "print(custome_list3)\n",
    "print(custome_list4)"
   ]
  }
 ],
 "metadata": {
  "kernelspec": {
   "display_name": "myenv",
   "language": "python",
   "name": "python3"
  },
  "language_info": {
   "codemirror_mode": {
    "name": "ipython",
    "version": 3
   },
   "file_extension": ".py",
   "mimetype": "text/x-python",
   "name": "python",
   "nbconvert_exporter": "python",
   "pygments_lexer": "ipython3",
   "version": "3.8.13"
  }
 },
 "nbformat": 4,
 "nbformat_minor": 2
}
